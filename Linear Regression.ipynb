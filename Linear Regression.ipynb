{
 "cells": [
  {
   "cell_type": "markdown",
   "metadata": {},
   "source": [
    "**Regression** is method of predicting the relationship between a target variable(outcome, dependent variable, result variable) and one or more independent response variables(predictor's, independent variables) The most common statistical analysis is linear regression where there is a linear relationship explained by the model. We are working with Simple Linear Regression Model and understanding the statistics used in assessing the model prediction."
   ]
  },
  {
   "cell_type": "code",
   "execution_count": 8,
   "metadata": {},
   "outputs": [],
   "source": [
    "#importing libraries\n",
    "\n",
    "#for reading data and plotting the data\n",
    "import pandas as pd\n",
    "import matplotlib.pyplot as plt\n",
    "import seaborn as sns\n",
    "\n",
    "#sklearn is the most common statistical/machine learning library used, widely used in production code.\n",
    "from sklearn.linear_model import LinearRegression\n",
    "\n",
    "#using the magic command to plot all plots inline/inside the notebook.\n",
    "%matplotlib inline"
   ]
  },
  {
   "cell_type": "code",
   "execution_count": 2,
   "metadata": {},
   "outputs": [],
   "source": [
    "#Reading the data into pandas dataframe object\n",
    "data = pd.read_csv('.\\Exploratory-Analysis\\data\\Advertising.csv')"
   ]
  },
  {
   "cell_type": "code",
   "execution_count": 3,
   "metadata": {},
   "outputs": [
    {
     "data": {
      "text/html": [
       "<div>\n",
       "<style scoped>\n",
       "    .dataframe tbody tr th:only-of-type {\n",
       "        vertical-align: middle;\n",
       "    }\n",
       "\n",
       "    .dataframe tbody tr th {\n",
       "        vertical-align: top;\n",
       "    }\n",
       "\n",
       "    .dataframe thead th {\n",
       "        text-align: right;\n",
       "    }\n",
       "</style>\n",
       "<table border=\"1\" class=\"dataframe\">\n",
       "  <thead>\n",
       "    <tr style=\"text-align: right;\">\n",
       "      <th></th>\n",
       "      <th>Unnamed: 0</th>\n",
       "      <th>TV</th>\n",
       "      <th>radio</th>\n",
       "      <th>newspaper</th>\n",
       "      <th>sales</th>\n",
       "    </tr>\n",
       "  </thead>\n",
       "  <tbody>\n",
       "    <tr>\n",
       "      <th>0</th>\n",
       "      <td>1</td>\n",
       "      <td>230.1</td>\n",
       "      <td>37.8</td>\n",
       "      <td>69.2</td>\n",
       "      <td>22.1</td>\n",
       "    </tr>\n",
       "    <tr>\n",
       "      <th>1</th>\n",
       "      <td>2</td>\n",
       "      <td>44.5</td>\n",
       "      <td>39.3</td>\n",
       "      <td>45.1</td>\n",
       "      <td>10.4</td>\n",
       "    </tr>\n",
       "    <tr>\n",
       "      <th>2</th>\n",
       "      <td>3</td>\n",
       "      <td>17.2</td>\n",
       "      <td>45.9</td>\n",
       "      <td>69.3</td>\n",
       "      <td>9.3</td>\n",
       "    </tr>\n",
       "    <tr>\n",
       "      <th>3</th>\n",
       "      <td>4</td>\n",
       "      <td>151.5</td>\n",
       "      <td>41.3</td>\n",
       "      <td>58.5</td>\n",
       "      <td>18.5</td>\n",
       "    </tr>\n",
       "    <tr>\n",
       "      <th>4</th>\n",
       "      <td>5</td>\n",
       "      <td>180.8</td>\n",
       "      <td>10.8</td>\n",
       "      <td>58.4</td>\n",
       "      <td>12.9</td>\n",
       "    </tr>\n",
       "  </tbody>\n",
       "</table>\n",
       "</div>"
      ],
      "text/plain": [
       "   Unnamed: 0     TV  radio  newspaper  sales\n",
       "0           1  230.1   37.8       69.2   22.1\n",
       "1           2   44.5   39.3       45.1   10.4\n",
       "2           3   17.2   45.9       69.3    9.3\n",
       "3           4  151.5   41.3       58.5   18.5\n",
       "4           5  180.8   10.8       58.4   12.9"
      ]
     },
     "execution_count": 3,
     "metadata": {},
     "output_type": "execute_result"
    }
   ],
   "source": [
    "# Displaying a sample from data set. As you can see the data has default indexing + an additional untitled column representing the actual index\n",
    "data.head()"
   ]
  },
  {
   "cell_type": "code",
   "execution_count": 4,
   "metadata": {},
   "outputs": [],
   "source": [
    "# Rereading the data with index_col parameter\n",
    "#index_col informs pandas dataframe object whether to use a index column by default or not. as we are giving 0, it means False - do not use it. \n",
    "data = pd.read_csv('.\\Exploratory-Analysis\\data\\Advertising.csv', index_col=0)"
   ]
  },
  {
   "cell_type": "code",
   "execution_count": 5,
   "metadata": {},
   "outputs": [
    {
     "data": {
      "text/html": [
       "<div>\n",
       "<style scoped>\n",
       "    .dataframe tbody tr th:only-of-type {\n",
       "        vertical-align: middle;\n",
       "    }\n",
       "\n",
       "    .dataframe tbody tr th {\n",
       "        vertical-align: top;\n",
       "    }\n",
       "\n",
       "    .dataframe thead th {\n",
       "        text-align: right;\n",
       "    }\n",
       "</style>\n",
       "<table border=\"1\" class=\"dataframe\">\n",
       "  <thead>\n",
       "    <tr style=\"text-align: right;\">\n",
       "      <th></th>\n",
       "      <th>TV</th>\n",
       "      <th>radio</th>\n",
       "      <th>newspaper</th>\n",
       "      <th>sales</th>\n",
       "    </tr>\n",
       "  </thead>\n",
       "  <tbody>\n",
       "    <tr>\n",
       "      <th>1</th>\n",
       "      <td>230.1</td>\n",
       "      <td>37.8</td>\n",
       "      <td>69.2</td>\n",
       "      <td>22.1</td>\n",
       "    </tr>\n",
       "    <tr>\n",
       "      <th>2</th>\n",
       "      <td>44.5</td>\n",
       "      <td>39.3</td>\n",
       "      <td>45.1</td>\n",
       "      <td>10.4</td>\n",
       "    </tr>\n",
       "    <tr>\n",
       "      <th>3</th>\n",
       "      <td>17.2</td>\n",
       "      <td>45.9</td>\n",
       "      <td>69.3</td>\n",
       "      <td>9.3</td>\n",
       "    </tr>\n",
       "    <tr>\n",
       "      <th>4</th>\n",
       "      <td>151.5</td>\n",
       "      <td>41.3</td>\n",
       "      <td>58.5</td>\n",
       "      <td>18.5</td>\n",
       "    </tr>\n",
       "    <tr>\n",
       "      <th>5</th>\n",
       "      <td>180.8</td>\n",
       "      <td>10.8</td>\n",
       "      <td>58.4</td>\n",
       "      <td>12.9</td>\n",
       "    </tr>\n",
       "  </tbody>\n",
       "</table>\n",
       "</div>"
      ],
      "text/plain": [
       "      TV  radio  newspaper  sales\n",
       "1  230.1   37.8       69.2   22.1\n",
       "2   44.5   39.3       45.1   10.4\n",
       "3   17.2   45.9       69.3    9.3\n",
       "4  151.5   41.3       58.5   18.5\n",
       "5  180.8   10.8       58.4   12.9"
      ]
     },
     "execution_count": 5,
     "metadata": {},
     "output_type": "execute_result"
    }
   ],
   "source": [
    "data.head()"
   ]
  },
  {
   "cell_type": "markdown",
   "metadata": {},
   "source": [
    "The **objective** here is to understand how advertisement impacts Sales <br>\n",
    "\n",
    "Few questions answered in below analysis: <br>\n",
    "\n",
    "What is training and testing data ? <br>\n",
    "How is linear regresion model used from sklearn library and model fit to the data ? <br>\n",
    "What are some of the important features that can be used in predicting the Sales ? <br>\n",
    "What are some of the metrics used for evaluation of the model ?"
   ]
  },
  {
   "cell_type": "markdown",
   "metadata": {},
   "source": [
    "Some basic information about the data set\n",
    "\n",
    "**Features/Independent Variables** \n",
    "<br>\n",
    "\n",
    "*TV*: Amount of \\\\$ spent by giving ads on the TV as a communication medium and how are Sales affected <br>\n",
    "*Radio* Amount of \\\\$ spent by giving ads on the Radio  <br>\n",
    "*Newspaper*: Amount of \\\\$ spent by giving news paper based ads. <br>\n",
    "\n",
    "**Target Variables** <br>\n",
    "\n",
    "Sales: This would be the Sales number impacted due to different advertisements\n",
    "\n",
    "**The model is fit means the parameters inside the model are estimated using the training data and these predicted parameter values are used in predicting the test data**\n",
    "\n",
    "If we have to speak in terms of Hypothesis Testing:\n",
    "\n",
    "Our \n",
    "Null Hypothesis: There is no relation between Sales figures and amount spent in advertisements via different mediums <br>\n",
    "Alternative Hypothesis: There is a strong relation between Sales and TV,Radio and Newspaper ad spendings\n"
   ]
  },
  {
   "cell_type": "code",
   "execution_count": null,
   "metadata": {},
   "outputs": [],
   "source": [
    "data.shape"
   ]
  },
  {
   "cell_type": "code",
   "execution_count": 6,
   "metadata": {},
   "outputs": [
    {
     "data": {
      "text/html": [
       "<div>\n",
       "<style scoped>\n",
       "    .dataframe tbody tr th:only-of-type {\n",
       "        vertical-align: middle;\n",
       "    }\n",
       "\n",
       "    .dataframe tbody tr th {\n",
       "        vertical-align: top;\n",
       "    }\n",
       "\n",
       "    .dataframe thead th {\n",
       "        text-align: right;\n",
       "    }\n",
       "</style>\n",
       "<table border=\"1\" class=\"dataframe\">\n",
       "  <thead>\n",
       "    <tr style=\"text-align: right;\">\n",
       "      <th></th>\n",
       "      <th>TV</th>\n",
       "      <th>radio</th>\n",
       "      <th>newspaper</th>\n",
       "      <th>sales</th>\n",
       "    </tr>\n",
       "  </thead>\n",
       "  <tbody>\n",
       "    <tr>\n",
       "      <th>1</th>\n",
       "      <td>False</td>\n",
       "      <td>False</td>\n",
       "      <td>False</td>\n",
       "      <td>False</td>\n",
       "    </tr>\n",
       "    <tr>\n",
       "      <th>2</th>\n",
       "      <td>False</td>\n",
       "      <td>False</td>\n",
       "      <td>False</td>\n",
       "      <td>False</td>\n",
       "    </tr>\n",
       "    <tr>\n",
       "      <th>3</th>\n",
       "      <td>False</td>\n",
       "      <td>False</td>\n",
       "      <td>False</td>\n",
       "      <td>False</td>\n",
       "    </tr>\n",
       "    <tr>\n",
       "      <th>4</th>\n",
       "      <td>False</td>\n",
       "      <td>False</td>\n",
       "      <td>False</td>\n",
       "      <td>False</td>\n",
       "    </tr>\n",
       "    <tr>\n",
       "      <th>5</th>\n",
       "      <td>False</td>\n",
       "      <td>False</td>\n",
       "      <td>False</td>\n",
       "      <td>False</td>\n",
       "    </tr>\n",
       "  </tbody>\n",
       "</table>\n",
       "</div>"
      ],
      "text/plain": [
       "      TV  radio  newspaper  sales\n",
       "1  False  False      False  False\n",
       "2  False  False      False  False\n",
       "3  False  False      False  False\n",
       "4  False  False      False  False\n",
       "5  False  False      False  False"
      ]
     },
     "execution_count": 6,
     "metadata": {},
     "output_type": "execute_result"
    }
   ],
   "source": [
    "# This method is to check if any columns return True boolean. If none return True, there are no NaN/Null values in dataframe\n",
    "\n",
    "data.isnull().head()"
   ]
  },
  {
   "cell_type": "code",
   "execution_count": null,
   "metadata": {},
   "outputs": [],
   "source": [
    "# Supposedly if there was 1 entry in Sales with NaN\n",
    "\n",
    "# Alogrithm\n",
    "#    - Create a bool series of the NaN row using isnull functionality\n",
    "#    - Seperate the NaN row and display it as dataframe\n",
    "#    - Fill the missing value or drop it\n",
    "\n",
    "# bool_series = pd.isnull(data['sales'])\n",
    "# data[bool_series]\n",
    "\n",
    "# to display the inverse of Null/NaN rows viz/i.e Not Null values\n",
    "# This function would return True for all numerical values and False for NaN/Null values\n",
    "\n",
    "# data.notnull()\n",
    "\n",
    "# Similarly to show all non Nan/Null values\n",
    "\n",
    "# Alogrithm\n",
    "#    - Create a bool series of the non-NaN row using notnull functionality\n",
    "#    - Seperate the non-NaN row and display it as dataframe\n",
    "\n",
    "# bool_series = pd.notnull(data['sales'])\n",
    "# data[bool_series]"
   ]
  },
  {
   "cell_type": "code",
   "execution_count": null,
   "metadata": {},
   "outputs": [],
   "source": [
    "# for Filling missing values we use fillna, replace and interpolate functions\n",
    "\n",
    "# Filling missing values with 1 value - data.fillna(0)\n",
    "# Filling null values with previous one - data.fillna(method = 'pad')\n",
    "# Filling null values with next ones data.fillna(method = 'bfill')\n",
    "# Filling with a spefic text value data['sales'].fillna('No Value', inplace=True)\n",
    "# Replacing a NaN value throughout data.replace(to_replace = np.nan,value = 0)\n",
    "# Dropping rows with atleast 1 NaN in any column data.dropna() "
   ]
  },
  {
   "cell_type": "markdown",
   "metadata": {},
   "source": [
    "## Visualizing the data using seaborn\n",
    "\n",
    "**Seaborn** is a tool built upon Matplotlib and used for visualizing. Seaborn cann be installed by using pip or conda install"
   ]
  },
  {
   "cell_type": "code",
   "execution_count": 20,
   "metadata": {},
   "outputs": [
    {
     "data": {
      "text/plain": [
       "<seaborn.axisgrid.PairGrid at 0x294683f6198>"
      ]
     },
     "execution_count": 20,
     "metadata": {},
     "output_type": "execute_result"
    },
    {
     "data": {
      "image/png": "[encoded data removed]",
      "text/plain": [
       "<Figure size 1209.6x576 with 3 Axes>"
      ]
     },
     "metadata": {
      "needs_background": "light"
     },
     "output_type": "display_data"
    }
   ],
   "source": [
    "sns.pairplot(data, x_vars = ['TV', 'radio', 'newspaper'], y_vars = ['sales'], height=8, aspect =0.7, kind= 'reg' )"
   ]
  },
  {
   "cell_type": "markdown",
   "metadata": {},
   "source": [
    "**Linear Regression**\n",
    "\n",
    "Assumptions\n",
    "    1. A linear relationship between the predictors and response variable.\n",
    "    2. No multicollinearity between predictor variables.\n",
    "    3. Response variable is normally distributed. Check for any pattterns in Residual plots.\n",
    "\n",
    "Pros: It is well understood, requires no tuning parameters, highly interpretable\n",
    "\n",
    "\n",
    "The equation is given as:<br>\n",
    "$y_i = \\beta_0 + \\beta_1 x_1 + \\beta_2 x_2 + \\beta_3 x_3 + e_i$\n",
    "\n",
    "where\n",
    "\n",
    "$ y_i$ = Target/Response variable <br>\n",
    "$ \\beta_i $= is the Coefficient of each Predictor variable  <br>\n",
    "$ \\beta_0 $= is the intercept <br>\n",
    "$ e_i$ = residual error \n",
    "\n",
    "Population Regression Line coefficient estimates would be the same as sample regression line\n",
    "\n",
    "In this case\n",
    "\n",
    "$y_i  = \\beta_0 + \\beta_1 * TV + \\beta_2 * radio + \\beta_3 * newspaper $ \n",
    "\n",
    "The beta's are model coefficients. These are estimated by fitting the model to training data using OLS (Ordinary Least Squares) criterion. As per OLS, the goal is to minimize the residual sum of square errors. Then the fitted model is used to do the predictions. "
   ]
  },
  {
   "cell_type": "code",
   "execution_count": null,
   "metadata": {},
   "outputs": [],
   "source": []
  }
 ],
 "metadata": {
  "kernelspec": {
   "display_name": "Python 3",
   "language": "python",
   "name": "python3"
  },
  "language_info": {
   "codemirror_mode": {
    "name": "ipython",
    "version": 3
   },
   "file_extension": ".py",
   "mimetype": "text/x-python",
   "name": "python",
   "nbconvert_exporter": "python",
   "pygments_lexer": "ipython3",
   "version": "3.5.5"
  }
 },
 "nbformat": 4,
 "nbformat_minor": 2
}
